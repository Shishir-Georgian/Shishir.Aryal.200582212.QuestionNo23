{
 "cells": [
  {
   "cell_type": "markdown",
   "id": "9cf9d5b6",
   "metadata": {},
   "source": [
    "# Question No-23"
   ]
  },
  {
   "cell_type": "markdown",
   "id": "692615f6",
   "metadata": {},
   "source": [
    "Develop a recursive function tough() that takes two nonnegative integer arguments and outputs a pattern as shown below. Hint: The first argument represents the indentation of the pattern, where the second argument -- always a pattern of 2 indicates the number *s in the longest line of *s in the pattern"
   ]
  },
  {
   "cell_type": "code",
   "execution_count": 1,
   "id": "d903c912",
   "metadata": {},
   "outputs": [
    {
     "name": "stdout",
     "output_type": "stream",
     "text": [
      "*\n"
     ]
    }
   ],
   "source": [
    "def tough(a, b):\n",
    "   if b == 1:\n",
    "       print(' ' * a + '*')\n",
    "   else:\n",
    "       \n",
    "       tough(a + b // 2, b // 2)\n",
    "       print(' ' * a + '*' * b)\n",
    "       \n",
    "       tough(a + b // 2, b // 2)\n",
    "# Testing the function with different parameters\n",
    "tough(0, 1)  "
   ]
  },
  {
   "cell_type": "code",
   "execution_count": 2,
   "id": "b77d9932",
   "metadata": {},
   "outputs": [
    {
     "name": "stdout",
     "output_type": "stream",
     "text": [
      " *\n",
      "**\n",
      " *\n"
     ]
    }
   ],
   "source": [
    "tough(0, 2) "
   ]
  },
  {
   "cell_type": "code",
   "execution_count": 3,
   "id": "dfe20b9d",
   "metadata": {},
   "outputs": [
    {
     "name": "stdout",
     "output_type": "stream",
     "text": [
      "   *\n",
      "  **\n",
      "   *\n",
      "****\n",
      "   *\n",
      "  **\n",
      "   *\n"
     ]
    }
   ],
   "source": [
    "tough(0, 4)  "
   ]
  },
  {
   "cell_type": "code",
   "execution_count": null,
   "id": "f974be45",
   "metadata": {},
   "outputs": [],
   "source": []
  }
 ],
 "metadata": {
  "kernelspec": {
   "display_name": "Python 3 (ipykernel)",
   "language": "python",
   "name": "python3"
  },
  "language_info": {
   "codemirror_mode": {
    "name": "ipython",
    "version": 3
   },
   "file_extension": ".py",
   "mimetype": "text/x-python",
   "name": "python",
   "nbconvert_exporter": "python",
   "pygments_lexer": "ipython3",
   "version": "3.11.5"
  }
 },
 "nbformat": 4,
 "nbformat_minor": 5
}
